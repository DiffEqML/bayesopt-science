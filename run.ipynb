{
 "cells": [
  {
   "cell_type": "code",
   "execution_count": 1,
   "metadata": {},
   "outputs": [],
   "source": [
    "import torch\n",
    "from botorch.acquisition import qExpectedImprovement\n",
    "from botorch.fit import fit_gpytorch_model\n",
    "from botorch.models import SingleTaskGP\n",
    "from botorch.generation import MaxPosteriorSampling\n",
    "from botorch.optim import optimize_acqf\n",
    "from botorch.test_functions import Ackley\n",
    "from botorch.utils.transforms import unnormalize\n",
    "from torch.quasirandom import SobolEngine\n",
    "\n",
    "import gpytorch\n",
    "\n",
    "from gpytorch.constraints import Interval\n",
    "from gpytorch.kernels import MaternKernel, ScaleKernel\n",
    "from gpytorch.likelihoods import GaussianLikelihood\n",
    "from gpytorch.mlls import ExactMarginalLogLikelihood\n",
    "from gpytorch.priors import HorseshoePrior\n",
    "\n",
    "from torch.quasirandom import SobolEngine\n",
    "from botorch.models import SingleTaskGP\n",
    "from botorch.fit import fit_gpytorch_model\n",
    "from botorch.utils import standardize\n",
    "from botorch.utils.transforms import unnormalize\n",
    "from gpytorch.mlls import ExactMarginalLogLikelihood\n",
    "import numpy as np\n",
    "from src.sim import MixtureModel\n",
    "import matplotlib.pyplot as plt\n",
    "\n",
    "import math\n",
    "from natsort import natsorted\n",
    "from dataclasses import dataclass\n",
    "\n",
    "import glob\n",
    "from PIL import Image\n",
    "\n",
    "%load_ext autoreload\n",
    "%autoreload 2"
   ]
  },
  {
   "cell_type": "code",
   "execution_count": 5,
   "metadata": {},
   "outputs": [],
   "source": [
    "device = torch.device(\"cpu\")\n",
    "dtype = torch.float"
   ]
  },
  {
   "cell_type": "code",
   "execution_count": 6,
   "metadata": {},
   "outputs": [
    {
     "name": "stdout",
     "output_type": "stream",
     "text": [
      "Getting too close to iteration limit. Exiting...\n"
     ]
    }
   ],
   "source": [
    "sim = MixtureModel(concentrations=[1., 0.])\n",
    "P = 80\n",
    "T_start, T_end = 200, 400\n",
    "T_span = np.linspace(T_start, T_end, T_end - T_start + 1)\n",
    "res = sim.get_density(P, T_span)"
   ]
  },
  {
   "cell_type": "code",
   "execution_count": 7,
   "metadata": {},
   "outputs": [
    {
     "data": {
      "text/plain": [
       "[<matplotlib.lines.Line2D at 0x7f57a4338910>]"
      ]
     },
     "execution_count": 7,
     "metadata": {},
     "output_type": "execute_result"
    },
    {
     "data": {
      "image/png": "[encoded data removed]",
      "text/plain": [
       "<Figure size 432x288 with 1 Axes>"
      ]
     },
     "metadata": {
      "needs_background": "light"
     },
     "output_type": "display_data"
    }
   ],
   "source": [
    "plt.plot(T_span, res)"
   ]
  },
  {
   "cell_type": "code",
   "execution_count": 8,
   "metadata": {},
   "outputs": [
    {
     "data": {
      "text/plain": [
       "tensor(-2.7584, dtype=torch.float64)"
      ]
     },
     "execution_count": 8,
     "metadata": {},
     "output_type": "execute_result"
    }
   ],
   "source": [
    "def get_initial_points(dim, n_pts, seed=0):\n",
    "    sobol = SobolEngine(dimension=dim, scramble=True, seed=seed)\n",
    "    X_init = sobol.draw(n=n_pts).to()\n",
    "    return X_init\n",
    "    \n",
    "def central_differences(P, T, norm=True):\n",
    "    if norm:\n",
    "        P, T = unnormalize(P, (lb_P, ub_P)), unnormalize(T, (lb_T, ub_T))\n",
    "\n",
    "    T_start, T_end = T-0.3, T+0.3\n",
    "    T_span = np.linspace(T_start, T_end, 2)\n",
    "    res = sim.get_density(P, T_span)\n",
    "\n",
    "    dddT = (res[-1] - res[0]) / 2\n",
    "    dddT = torch.tensor(dddT)\n",
    "    return dddT\n",
    "\n",
    "def eval_objective(x):\n",
    "    x = x.numpy()\n",
    "    \"\"\"This is a helper function we use to unnormalize and evaluate a point\"\"\"\n",
    "    P, T = x\n",
    "    return -central_differences(P, T)\n",
    "\n",
    "central_differences(1, 0.5)"
   ]
  },
  {
   "cell_type": "markdown",
   "metadata": {},
   "source": [
    "## GP-EI"
   ]
  },
  {
   "cell_type": "code",
   "execution_count": 44,
   "metadata": {},
   "outputs": [],
   "source": [
    "lb_T, ub_T = 260, 360\n",
    "lb_P, ub_P = 60, 120\n",
    "dim = 2\n",
    "batch_size = 1\n",
    "n_init = 2\n",
    "n_iters = 50\n",
    "NUM_RESTARTS = 40 \n",
    "RAW_SAMPLES = 512 \n",
    "N_CANDIDATES = min(5000, max(2000, 200 * dim)) \n",
    "max_cholesky_size = float(\"inf\")  # Always use Cholesky"
   ]
  },
  {
   "cell_type": "code",
   "execution_count": 45,
   "metadata": {},
   "outputs": [
    {
     "name": "stdout",
     "output_type": "stream",
     "text": [
      "3) Best value: 1.49e+00\n",
      "4) Best value: 1.49e+00\n",
      "5) Best value: 2.34e+00\n",
      "6) Best value: 2.34e+00\n",
      "Getting too close to iteration limit. Exiting...\n",
      "Getting too close to iteration limit. Exiting...\n",
      "7) Best value: 2.34e+00\n",
      "8) Best value: 2.34e+00\n",
      "9) Best value: 2.34e+00\n",
      "10) Best value: 2.72e+00\n",
      "11) Best value: 2.72e+00\n",
      "12) Best value: 4.23e+00\n",
      "13) Best value: 4.23e+00\n",
      "14) Best value: 4.66e+00\n",
      "15) Best value: 4.66e+00\n",
      "16) Best value: 5.28e+00\n",
      "17) Best value: 5.37e+00\n",
      "18) Best value: 5.37e+00\n",
      "19) Best value: 5.48e+00\n",
      "20) Best value: 5.48e+00\n",
      "21) Best value: 5.87e+00\n",
      "22) Best value: 6.44e+00\n",
      "23) Best value: 7.48e+00\n",
      "24) Best value: 9.50e+00\n",
      "25) Best value: 9.50e+00\n",
      "26) Best value: 1.06e+01\n",
      "27) Best value: 1.06e+01\n",
      "28) Best value: 1.06e+01\n",
      "29) Best value: 1.06e+01\n",
      "30) Best value: 1.13e+01\n",
      "31) Best value: 1.13e+01\n",
      "32) Best value: 1.22e+01\n",
      "33) Best value: 1.25e+01\n",
      "34) Best value: 1.27e+01\n",
      "35) Best value: 1.28e+01\n",
      "36) Best value: 1.34e+01\n",
      "37) Best value: 1.34e+01\n",
      "38) Best value: 1.39e+01\n",
      "39) Best value: 1.39e+01\n",
      "Getting too close to iteration limit. Exiting...\n",
      "Getting too close to iteration limit. Exiting...\n"
     ]
    },
    {
     "name": "stderr",
     "output_type": "stream",
     "text": [
      "/home/stefano/michael/diffeqml/bo-phases/src/PCSAFT.py:491: RuntimeWarning: invalid value encountered in log\n",
      "  fug[i] = np.exp(mu_assoc[i] + mu_hc[i] + mu_disp[i] - np.log(Z))\n"
     ]
    },
    {
     "name": "stdout",
     "output_type": "stream",
     "text": [
      "40) Best value: 1.39e+01\n",
      "41) Best value: 1.48e+01\n",
      "42) Best value: 1.56e+01\n",
      "43) Best value: 1.64e+01\n",
      "44) Best value: 1.65e+01\n",
      "45) Best value: 1.65e+01\n",
      "46) Best value: 1.80e+01\n",
      "47) Best value: 1.86e+01\n",
      "Getting too close to iteration limit. Exiting...\n"
     ]
    },
    {
     "name": "stderr",
     "output_type": "stream",
     "text": [
      "/home/stefano/michael/diffeqml/bo-phases/src/PCSAFT.py:491: RuntimeWarning: invalid value encountered in log\n",
      "  fug[i] = np.exp(mu_assoc[i] + mu_hc[i] + mu_disp[i] - np.log(Z))\n"
     ]
    },
    {
     "name": "stdout",
     "output_type": "stream",
     "text": [
      "Getting too close to iteration limit. Exiting...\n",
      "48) Best value: 1.86e+01\n",
      "49) Best value: 1.86e+01\n",
      "50) Best value: 1.86e+01\n"
     ]
    }
   ],
   "source": [
    "X_ei = get_initial_points(dim, n_init, seed=2)\n",
    "Y_ei = torch.tensor(\n",
    "    [eval_objective(x) for x in X_ei], dtype=dtype, device=device\n",
    ").unsqueeze(-1)\n",
    "\n",
    "while len(Y_ei) < n_iters:\n",
    "    train_Y = (Y_ei - Y_ei.mean()) / Y_ei.std()\n",
    "    likelihood = GaussianLikelihood(noise_constraint=Interval(1e-8, 1e-3))\n",
    "    model = SingleTaskGP(X_ei, train_Y, likelihood=likelihood)\n",
    "    mll = ExactMarginalLogLikelihood(model.likelihood, model)\n",
    "    fit_gpytorch_model(mll)\n",
    "\n",
    "    # Create a batch\n",
    "    ei = qExpectedImprovement(model, train_Y.max(), maximize=True)\n",
    "    candidate, acq_value = optimize_acqf(\n",
    "        ei,\n",
    "        bounds=torch.stack(\n",
    "            [\n",
    "                torch.zeros(dim, dtype=dtype, device=device),\n",
    "                torch.ones(dim, dtype=dtype, device=device),\n",
    "            ]\n",
    "        ),\n",
    "        q=batch_size,\n",
    "        num_restarts=NUM_RESTARTS,\n",
    "        raw_samples=RAW_SAMPLES,\n",
    "    )\n",
    "    Y_next = torch.tensor(\n",
    "        [eval_objective(x) for x in candidate], dtype=dtype, device=device\n",
    "    ).unsqueeze(-1)\n",
    "\n",
    "    # Append data\n",
    "    X_ei = torch.cat((X_ei, candidate), axis=0)\n",
    "    Y_ei = torch.cat((Y_ei, Y_next), axis=0)\n",
    "\n",
    "    print(f\"{len(X_ei)}) Best value: {Y_ei.max().item():.2e}\")"
   ]
  },
  {
   "cell_type": "markdown",
   "metadata": {},
   "source": [
    "### Plot"
   ]
  },
  {
   "cell_type": "code",
   "execution_count": 11,
   "metadata": {},
   "outputs": [],
   "source": [
    "def draw_state_space(P_span, T_span):\n",
    "    sim = MixtureModel(concentrations=[1., 0.])\n",
    "    res = []\n",
    "    est_dddT = []\n",
    "    for P in P_span:\n",
    "        res.append(sim.get_density(P, T_span))\n",
    "\n",
    "    return np.array(res) "
   ]
  },
  {
   "cell_type": "code",
   "execution_count": 12,
   "metadata": {},
   "outputs": [
    {
     "name": "stdout",
     "output_type": "stream",
     "text": [
      "Getting too close to iteration limit. Exiting...\n",
      "Getting too close to iteration limit. Exiting...\n",
      "Getting too close to iteration limit. Exiting...\n",
      "Getting too close to iteration limit. Exiting...\n",
      "Getting too close to iteration limit. Exiting...\n",
      "Getting too close to iteration limit. Exiting...\n",
      "Getting too close to iteration limit. Exiting...\n",
      "Getting too close to iteration limit. Exiting...\n"
     ]
    },
    {
     "name": "stderr",
     "output_type": "stream",
     "text": [
      "/home/stefano/michael/diffeqml/bo-phases/src/PCSAFT.py:491: RuntimeWarning: invalid value encountered in log\n",
      "  fug[i] = np.exp(mu_assoc[i] + mu_hc[i] + mu_disp[i] - np.log(Z))\n"
     ]
    },
    {
     "name": "stdout",
     "output_type": "stream",
     "text": [
      "Getting too close to iteration limit. Exiting...\n",
      "Getting too close to iteration limit. Exiting...\n",
      "Getting too close to iteration limit. Exiting...\n",
      "Getting too close to iteration limit. Exiting...\n",
      "Getting too close to iteration limit. Exiting...\n",
      "Getting too close to iteration limit. Exiting...\n",
      "Getting too close to iteration limit. Exiting...\n",
      "Getting too close to iteration limit. Exiting...\n",
      "Getting too close to iteration limit. Exiting...\n",
      "Getting too close to iteration limit. Exiting...\n",
      "Getting too close to iteration limit. Exiting...\n",
      "Getting too close to iteration limit. Exiting...\n",
      "Getting too close to iteration limit. Exiting...\n",
      "Getting too close to iteration limit. Exiting...\n",
      "Getting too close to iteration limit. Exiting...\n",
      "Getting too close to iteration limit. Exiting...\n",
      "Getting too close to iteration limit. Exiting...\n",
      "Getting too close to iteration limit. Exiting...\n",
      "Getting too close to iteration limit. Exiting...\n",
      "Getting too close to iteration limit. Exiting...\n",
      "Getting too close to iteration limit. Exiting...\n",
      "Getting too close to iteration limit. Exiting...\n",
      "Getting too close to iteration limit. Exiting...\n",
      "Getting too close to iteration limit. Exiting...\n",
      "Getting too close to iteration limit. Exiting...\n",
      "Getting too close to iteration limit. Exiting...\n",
      "Getting too close to iteration limit. Exiting...\n",
      "Getting too close to iteration limit. Exiting...\n",
      "Getting too close to iteration limit. Exiting...\n",
      "Getting too close to iteration limit. Exiting...\n",
      "Getting too close to iteration limit. Exiting...\n",
      "Getting too close to iteration limit. Exiting...\n",
      "Getting too close to iteration limit. Exiting...\n",
      "Getting too close to iteration limit. Exiting...\n",
      "Getting too close to iteration limit. Exiting...\n",
      "Getting too close to iteration limit. Exiting...\n",
      "Getting too close to iteration limit. Exiting...\n",
      "Getting too close to iteration limit. Exiting...\n",
      "Getting too close to iteration limit. Exiting...\n",
      "Getting too close to iteration limit. Exiting...\n",
      "Getting too close to iteration limit. Exiting...\n",
      "Getting too close to iteration limit. Exiting...\n",
      "Getting too close to iteration limit. Exiting...\n",
      "Getting too close to iteration limit. Exiting...\n",
      "Getting too close to iteration limit. Exiting...\n",
      "Getting too close to iteration limit. Exiting...\n",
      "Getting too close to iteration limit. Exiting...\n",
      "Getting too close to iteration limit. Exiting...\n",
      "Getting too close to iteration limit. Exiting...\n",
      "Getting too close to iteration limit. Exiting...\n",
      "Getting too close to iteration limit. Exiting...\n",
      "Getting too close to iteration limit. Exiting...\n",
      "Getting too close to iteration limit. Exiting...\n",
      "Getting too close to iteration limit. Exiting...\n",
      "Getting too close to iteration limit. Exiting...\n"
     ]
    }
   ],
   "source": [
    "P_span = np.arange(lb_P, ub_P, 1)\n",
    "T_span = np.arange(lb_T, ub_T, 1)\n",
    "res = draw_state_space(P_span, T_span)"
   ]
  },
  {
   "cell_type": "code",
   "execution_count": 46,
   "metadata": {},
   "outputs": [
    {
     "name": "stdout",
     "output_type": "stream",
     "text": [
      "Getting too close to iteration limit. Exiting...\n",
      "Getting too close to iteration limit. Exiting...\n",
      "Getting too close to iteration limit. Exiting...\n",
      "Getting too close to iteration limit. Exiting...\n",
      "Getting too close to iteration limit. Exiting...\n",
      "Getting too close to iteration limit. Exiting...\n",
      "Getting too close to iteration limit. Exiting...\n",
      "Getting too close to iteration limit. Exiting...\n",
      "Getting too close to iteration limit. Exiting...\n",
      "Getting too close to iteration limit. Exiting...\n"
     ]
    },
    {
     "name": "stderr",
     "output_type": "stream",
     "text": [
      "/home/stefano/michael/diffeqml/bo-phases/src/PCSAFT.py:491: RuntimeWarning: invalid value encountered in log\n",
      "  fug[i] = np.exp(mu_assoc[i] + mu_hc[i] + mu_disp[i] - np.log(Z))\n"
     ]
    },
    {
     "name": "stdout",
     "output_type": "stream",
     "text": [
      "Getting too close to iteration limit. Exiting...\n",
      "Getting too close to iteration limit. Exiting...\n",
      "Getting too close to iteration limit. Exiting...\n",
      "Getting too close to iteration limit. Exiting...\n",
      "Getting too close to iteration limit. Exiting...\n",
      "Getting too close to iteration limit. Exiting...\n",
      "Getting too close to iteration limit. Exiting...\n",
      "Getting too close to iteration limit. Exiting...\n",
      "Getting too close to iteration limit. Exiting...\n",
      "Getting too close to iteration limit. Exiting...\n"
     ]
    }
   ],
   "source": [
    "sim = MixtureModel(concentrations=[1., 0.])\n",
    "\n",
    "for k in range(0, n_iters-n_init):\n",
    "    fig, ax = plt.subplots(1,1,figsize=(10,10))\n",
    "    im = ax.contourf(T_span, P_span, res, levels=100, cmap='bone')\n",
    "    im1 = ax.scatter(\n",
    "        unnormalize(X_ei[:n_init, 1], (lb_T, ub_T)), unnormalize(X_ei[:n_init, 0], (lb_P, ub_P)),\n",
    "        color='black', marker='1', s=300\n",
    "       )\n",
    "    P, T = X_ei[n_init+k, 0], X_ei[n_init+k, 1]\n",
    "    im2 = ax.scatter(\n",
    "        unnormalize(T, (lb_T, ub_T)), unnormalize(P, (lb_P, ub_P)),\n",
    "        color='blue', alpha=0.9, marker='p', s=400\n",
    "        )\n",
    "\n",
    "    P_pre, T_pre = X_ei[n_init:n_init+k, 0], X_ei[n_init:n_init+k, 1]\n",
    "    im3 = ax.scatter(\n",
    "        unnormalize(T_pre, (lb_T, ub_T)), unnormalize(P_pre, (lb_P, ub_P)),\n",
    "        color='gray', alpha=1, marker='p', s=100\n",
    "        )\n",
    "    ax.set_xlim(lb_T - 1, ub_T + 1)\n",
    "    ax.set_ylim(lb_P - 1, ub_P + 1)\n",
    "\n",
    "    ax.set_xlabel(\"Temperature (K)\")\n",
    "    ax.set_ylabel(\"Pressure (bar)\")\n",
    "    ax.set_title(f\"Iteration: {k}\")\n",
    "\n",
    "    #plt.colorbar(im)   \n",
    "\n",
    "    # find and color best so far\n",
    "    best_y_idx = Y_ei[:k+n_init].argmax()\n",
    "    P_best, T_best = unnormalize(X_ei[best_y_idx, 0], (lb_P, ub_P)), unnormalize(X_ei[best_y_idx, 1], (lb_T, ub_T))\n",
    "    im4 = ax.scatter(T_best, P_best, alpha=0.9, marker='s', s=300, facecolors='none', edgecolors='r')\n",
    "\n",
    "    # plot last move\n",
    "    P_move, T_move = X_ei[n_init+k-1:n_init+k+1, 0], X_ei[n_init+k-1:n_init+k+1, 1]\n",
    "    im3 = ax.plot(\n",
    "        unnormalize(T_move, (lb_T, ub_T)), unnormalize(P_move, (lb_P, ub_P)),\n",
    "        color='gray', alpha=0.6, linewidth=2,\n",
    "        )\n",
    "    ax.set_xlim(lb_T - 1, ub_T + 1)\n",
    "    ax.set_ylim(lb_P - 1, ub_P + 1) \n",
    "\n",
    "    # plt.grid()\n",
    "    plt.savefig(f'artifacts/plots/bo_exploration/exploration_{k}.jpeg', dpi=200, bbox_inches='tight', transparent=False)\n",
    "    plt.close()\n",
    "\n",
    "    # plot actual density curve (according to PC-SAFT)\n",
    "    fig, ax = plt.subplots(1,1,figsize=(7,4))\n",
    "    T_span_fine = np.linspace(lb_T, ub_T, 100)\n",
    "    best_curve = np.array(sim.get_density(P_best.numpy(), T_span_fine)) \n",
    "\n",
    "    ax.set_ylim(200, 1000)  \n",
    "    ax.vlines(T_best, ymin=200, ymax=1000, color='red', linestyle='--') # should be T_best, all inverted -_-\n",
    "    ax.plot(T_span_fine, best_curve, alpha=1, color='black')\n",
    "    ax.set_xlabel(\"Temperature (K)\")\n",
    "    ax.set_ylabel(\"Density (kg / m3)\")\n",
    "    ax.set_title(f\"Iter.: {k}, Pressure: {P_best:.1f}, Temp.: {T_best:.1f}\")\n",
    "\n",
    "    #plt.grid()\n",
    "    plt.savefig(f'artifacts/plots/bo_exploration/density_{k}.jpeg', dpi=200, bbox_inches='tight', transparent=False)\n",
    "    plt.close()"
   ]
  },
  {
   "cell_type": "code",
   "execution_count": 543,
   "metadata": {},
   "outputs": [],
   "source": [
    "def make_bo_gif(run_id, frame_folder):\n",
    "    frames = [Image.open(image) for image in natsorted(glob.glob(f\"{frame_folder}/exploration*.png\"))]\n",
    "    frame_one = frames[0]\n",
    "    frame_one.save(f\"bo_run_{run_id}.gif\", format=\"GIF\", append_images=frames,\n",
    "               save_all=True, duration=500, loop=1)\n",
    "\n",
    "    frames = [Image.open(image) for image in natsorted(glob.glob(f\"{frame_folder}/density*.png\"))]\n",
    "    frame_one = frames[0]\n",
    "    frame_one.save(f\"density_{run_id}.gif\", format=\"GIF\", append_images=frames,\n",
    "               save_all=True, duration=500, loop=1)"
   ]
  },
  {
   "cell_type": "code",
   "execution_count": 544,
   "metadata": {},
   "outputs": [],
   "source": [
    "frame_folder = 'artifacts/plots/bo_exploration'\n",
    "\n",
    "\n",
    "make_bo_gif(run_id=1, frame_folder=frame_folder)"
   ]
  }
 ],
 "metadata": {
  "interpreter": {
   "hash": "31f2aee4e71d21fbe5cf8b01ff0e069b9275f58929596ceb00d14d90e3e16cd6"
  },
  "kernelspec": {
   "display_name": "Python 3.9.5 64-bit",
   "language": "python",
   "name": "python3"
  },
  "language_info": {
   "codemirror_mode": {
    "name": "ipython",
    "version": 3
   },
   "file_extension": ".py",
   "mimetype": "text/x-python",
   "name": "python",
   "nbconvert_exporter": "python",
   "pygments_lexer": "ipython3",
   "version": "3.9.12"
  },
  "orig_nbformat": 4
 },
 "nbformat": 4,
 "nbformat_minor": 2
}
